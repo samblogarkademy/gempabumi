import numpy as np # linear algebra
import pandas as pd # data processing, CSV file I/O (e.g. pd.read_csv)

import missingno as msno
import plotly.express as px
import plotly.graph_objects as go

df = pd.read_csv('/content/drive/MyDrive/katalog_gempa.csv')
df
